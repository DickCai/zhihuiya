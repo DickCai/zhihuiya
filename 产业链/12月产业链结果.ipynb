{
 "cells": [
  {
   "cell_type": "code",
   "execution_count": 9,
   "metadata": {},
   "outputs": [],
   "source": [
    "import pandas as pd\n",
    "import os\n",
    "os.chdir(r'D:\\数据\\全国数据\\产业链\\12月结果\\生物医药产业技术链')\n",
    "from sklearn.metrics import classification_report"
   ]
  },
  {
   "cell_type": "markdown",
   "metadata": {},
   "source": [
    "# 生物医药"
   ]
  },
  {
   "cell_type": "code",
   "execution_count": 7,
   "metadata": {},
   "outputs": [],
   "source": [
    "Biomedicine=pd.read_excel('生物医药.xlsx',sheet_name='恒生聚源数据')"
   ]
  },
  {
   "cell_type": "code",
   "execution_count": 8,
   "metadata": {},
   "outputs": [
    {
     "data": {
      "text/html": [
       "<div>\n",
       "<style scoped>\n",
       "    .dataframe tbody tr th:only-of-type {\n",
       "        vertical-align: middle;\n",
       "    }\n",
       "\n",
       "    .dataframe tbody tr th {\n",
       "        vertical-align: top;\n",
       "    }\n",
       "\n",
       "    .dataframe thead th {\n",
       "        text-align: right;\n",
       "    }\n",
       "</style>\n",
       "<table border=\"1\" class=\"dataframe\">\n",
       "  <thead>\n",
       "    <tr style=\"text-align: right;\">\n",
       "      <th></th>\n",
       "      <th>Unnamed: 0</th>\n",
       "      <th>Unnamed: 1</th>\n",
       "      <th>企业名称</th>\n",
       "      <th>来源</th>\n",
       "      <th>DDD</th>\n",
       "      <th>恒生</th>\n",
       "      <th>智慧芽</th>\n",
       "    </tr>\n",
       "  </thead>\n",
       "  <tbody>\n",
       "    <tr>\n",
       "      <th>0</th>\n",
       "      <td>NaN</td>\n",
       "      <td>NaN</td>\n",
       "      <td>佐今明制药股份有限公司</td>\n",
       "      <td>HS</td>\n",
       "      <td>ACTIVE</td>\n",
       "      <td>集成电路</td>\n",
       "      <td>集成电路</td>\n",
       "    </tr>\n",
       "    <tr>\n",
       "      <th>1</th>\n",
       "      <td>NaN</td>\n",
       "      <td>NaN</td>\n",
       "      <td>遵义廖元和堂药业有限公司</td>\n",
       "      <td>HS</td>\n",
       "      <td>ACTIVE</td>\n",
       "      <td>集成电路</td>\n",
       "      <td>集成电路</td>\n",
       "    </tr>\n",
       "    <tr>\n",
       "      <th>2</th>\n",
       "      <td>NaN</td>\n",
       "      <td>NaN</td>\n",
       "      <td>遵义华卫制药有限公司</td>\n",
       "      <td>HS</td>\n",
       "      <td>NaN</td>\n",
       "      <td>集成电路</td>\n",
       "      <td>其它</td>\n",
       "    </tr>\n",
       "    <tr>\n",
       "      <th>3</th>\n",
       "      <td>NaN</td>\n",
       "      <td>NaN</td>\n",
       "      <td>自贡鸿鹤制药有限责任公司</td>\n",
       "      <td>HS</td>\n",
       "      <td>ACTIVE</td>\n",
       "      <td>集成电路</td>\n",
       "      <td>集成电路</td>\n",
       "    </tr>\n",
       "    <tr>\n",
       "      <th>4</th>\n",
       "      <td>NaN</td>\n",
       "      <td>NaN</td>\n",
       "      <td>紫光古汉集团衡阳制药有限公司</td>\n",
       "      <td>HS</td>\n",
       "      <td>ACTIVE</td>\n",
       "      <td>集成电路</td>\n",
       "      <td>集成电路</td>\n",
       "    </tr>\n",
       "    <tr>\n",
       "      <th>...</th>\n",
       "      <td>...</td>\n",
       "      <td>...</td>\n",
       "      <td>...</td>\n",
       "      <td>...</td>\n",
       "      <td>...</td>\n",
       "      <td>...</td>\n",
       "      <td>...</td>\n",
       "    </tr>\n",
       "    <tr>\n",
       "      <th>3690</th>\n",
       "      <td>NaN</td>\n",
       "      <td>NaN</td>\n",
       "      <td>艾美卫信生物药业(浙江)有限公司</td>\n",
       "      <td>HS</td>\n",
       "      <td>ACTIVE</td>\n",
       "      <td>集成电路</td>\n",
       "      <td>集成电路</td>\n",
       "    </tr>\n",
       "    <tr>\n",
       "      <th>3691</th>\n",
       "      <td>NaN</td>\n",
       "      <td>NaN</td>\n",
       "      <td>艾美科健(中国)生物医药有限公司</td>\n",
       "      <td>HS</td>\n",
       "      <td>ACTIVE</td>\n",
       "      <td>集成电路</td>\n",
       "      <td>集成电路</td>\n",
       "    </tr>\n",
       "    <tr>\n",
       "      <th>3692</th>\n",
       "      <td>NaN</td>\n",
       "      <td>NaN</td>\n",
       "      <td>艾美汉信疫苗(大连)有限公司</td>\n",
       "      <td>HS</td>\n",
       "      <td>ACTIVE</td>\n",
       "      <td>集成电路</td>\n",
       "      <td>集成电路</td>\n",
       "    </tr>\n",
       "    <tr>\n",
       "      <th>3693</th>\n",
       "      <td>NaN</td>\n",
       "      <td>NaN</td>\n",
       "      <td>阿斯利康制药有限公司</td>\n",
       "      <td>HS</td>\n",
       "      <td>NaN</td>\n",
       "      <td>集成电路</td>\n",
       "      <td>其它</td>\n",
       "    </tr>\n",
       "    <tr>\n",
       "      <th>3694</th>\n",
       "      <td>NaN</td>\n",
       "      <td>NaN</td>\n",
       "      <td>阿斯利康药业(中国)有限公司</td>\n",
       "      <td>HS</td>\n",
       "      <td>NaN</td>\n",
       "      <td>集成电路</td>\n",
       "      <td>其它</td>\n",
       "    </tr>\n",
       "  </tbody>\n",
       "</table>\n",
       "<p>3695 rows × 7 columns</p>\n",
       "</div>"
      ],
      "text/plain": [
       "      Unnamed: 0  Unnamed: 1              企业名称  来源     DDD    恒生   智慧芽\n",
       "0            NaN         NaN       佐今明制药股份有限公司  HS  ACTIVE  集成电路  集成电路\n",
       "1            NaN         NaN      遵义廖元和堂药业有限公司  HS  ACTIVE  集成电路  集成电路\n",
       "2            NaN         NaN        遵义华卫制药有限公司  HS     NaN  集成电路    其它\n",
       "3            NaN         NaN      自贡鸿鹤制药有限责任公司  HS  ACTIVE  集成电路  集成电路\n",
       "4            NaN         NaN    紫光古汉集团衡阳制药有限公司  HS  ACTIVE  集成电路  集成电路\n",
       "...          ...         ...               ...  ..     ...   ...   ...\n",
       "3690         NaN         NaN  艾美卫信生物药业(浙江)有限公司  HS  ACTIVE  集成电路  集成电路\n",
       "3691         NaN         NaN  艾美科健(中国)生物医药有限公司  HS  ACTIVE  集成电路  集成电路\n",
       "3692         NaN         NaN    艾美汉信疫苗(大连)有限公司  HS  ACTIVE  集成电路  集成电路\n",
       "3693         NaN         NaN        阿斯利康制药有限公司  HS     NaN  集成电路    其它\n",
       "3694         NaN         NaN    阿斯利康药业(中国)有限公司  HS     NaN  集成电路    其它\n",
       "\n",
       "[3695 rows x 7 columns]"
      ]
     },
     "execution_count": 8,
     "metadata": {},
     "output_type": "execute_result"
    }
   ],
   "source": [
    "Biomedicine"
   ]
  },
  {
   "cell_type": "code",
   "execution_count": 12,
   "metadata": {},
   "outputs": [
    {
     "data": {
      "text/plain": [
       "{'集成电路': 0, '其它': 1}"
      ]
     },
     "execution_count": 12,
     "metadata": {},
     "output_type": "execute_result"
    }
   ],
   "source": [
    "dic1 = {'集成电路' : 0, '其它' : 1}\n",
    "dic1"
   ]
  },
  {
   "cell_type": "code",
   "execution_count": 17,
   "metadata": {},
   "outputs": [
    {
     "name": "stderr",
     "output_type": "stream",
     "text": [
      "C:\\Users\\caiqijun\\Anaconda3\\lib\\site-packages\\sklearn\\metrics\\_classification.py:1245: UndefinedMetricWarning: Precision and F-score are ill-defined and being set to 0.0 in labels with no predicted samples. Use `zero_division` parameter to control this behavior.\n",
      "  _warn_prf(average, modifier, msg_start, len(result))\n",
      "C:\\Users\\caiqijun\\Anaconda3\\lib\\site-packages\\sklearn\\metrics\\_classification.py:1245: UndefinedMetricWarning: Precision and F-score are ill-defined and being set to 0.0 in labels with no predicted samples. Use `zero_division` parameter to control this behavior.\n",
      "  _warn_prf(average, modifier, msg_start, len(result))\n",
      "C:\\Users\\caiqijun\\Anaconda3\\lib\\site-packages\\sklearn\\metrics\\_classification.py:1245: UndefinedMetricWarning: Precision and F-score are ill-defined and being set to 0.0 in labels with no predicted samples. Use `zero_division` parameter to control this behavior.\n",
      "  _warn_prf(average, modifier, msg_start, len(result))\n"
     ]
    }
   ],
   "source": [
    "Biomedicine['y_pred'] = Biomedicine['恒生'].map(lambda x: dic1[x])\n",
    "Biomedicine['y_true'] = Biomedicine['智慧芽'].map(lambda x: dic1[x])\n",
    "perform = pd.DataFrame(classification_report(Biomedicine['y_true'].tolist(), Biomedicine['y_pred'].tolist(), target_names=dic1.keys(), output_dict = 'dict')).transpose()"
   ]
  },
  {
   "cell_type": "code",
   "execution_count": 19,
   "metadata": {},
   "outputs": [
    {
     "data": {
      "text/html": [
       "<div>\n",
       "<style scoped>\n",
       "    .dataframe tbody tr th:only-of-type {\n",
       "        vertical-align: middle;\n",
       "    }\n",
       "\n",
       "    .dataframe tbody tr th {\n",
       "        vertical-align: top;\n",
       "    }\n",
       "\n",
       "    .dataframe thead th {\n",
       "        text-align: right;\n",
       "    }\n",
       "</style>\n",
       "<table border=\"1\" class=\"dataframe\">\n",
       "  <thead>\n",
       "    <tr style=\"text-align: right;\">\n",
       "      <th></th>\n",
       "      <th>precision</th>\n",
       "      <th>recall</th>\n",
       "      <th>f1-score</th>\n",
       "      <th>support</th>\n",
       "    </tr>\n",
       "  </thead>\n",
       "  <tbody>\n",
       "    <tr>\n",
       "      <th>集成电路</th>\n",
       "      <td>0.686874</td>\n",
       "      <td>1.000000</td>\n",
       "      <td>0.814375</td>\n",
       "      <td>2538.000000</td>\n",
       "    </tr>\n",
       "    <tr>\n",
       "      <th>其它</th>\n",
       "      <td>0.000000</td>\n",
       "      <td>0.000000</td>\n",
       "      <td>0.000000</td>\n",
       "      <td>1157.000000</td>\n",
       "    </tr>\n",
       "    <tr>\n",
       "      <th>accuracy</th>\n",
       "      <td>0.686874</td>\n",
       "      <td>0.686874</td>\n",
       "      <td>0.686874</td>\n",
       "      <td>0.686874</td>\n",
       "    </tr>\n",
       "    <tr>\n",
       "      <th>macro avg</th>\n",
       "      <td>0.343437</td>\n",
       "      <td>0.500000</td>\n",
       "      <td>0.407188</td>\n",
       "      <td>3695.000000</td>\n",
       "    </tr>\n",
       "    <tr>\n",
       "      <th>weighted avg</th>\n",
       "      <td>0.471796</td>\n",
       "      <td>0.686874</td>\n",
       "      <td>0.559373</td>\n",
       "      <td>3695.000000</td>\n",
       "    </tr>\n",
       "  </tbody>\n",
       "</table>\n",
       "</div>"
      ],
      "text/plain": [
       "              precision    recall  f1-score      support\n",
       "集成电路           0.686874  1.000000  0.814375  2538.000000\n",
       "其它             0.000000  0.000000  0.000000  1157.000000\n",
       "accuracy       0.686874  0.686874  0.686874     0.686874\n",
       "macro avg      0.343437  0.500000  0.407188  3695.000000\n",
       "weighted avg   0.471796  0.686874  0.559373  3695.000000"
      ]
     },
     "execution_count": 19,
     "metadata": {},
     "output_type": "execute_result"
    }
   ],
   "source": [
    "perform"
   ]
  }
 ],
 "metadata": {
  "kernelspec": {
   "display_name": "Python 3",
   "language": "python",
   "name": "python3"
  },
  "language_info": {
   "codemirror_mode": {
    "name": "ipython",
    "version": 3
   },
   "file_extension": ".py",
   "mimetype": "text/x-python",
   "name": "python",
   "nbconvert_exporter": "python",
   "pygments_lexer": "ipython3",
   "version": "3.7.6"
  },
  "toc": {
   "base_numbering": 1,
   "nav_menu": {},
   "number_sections": true,
   "sideBar": true,
   "skip_h1_title": false,
   "title_cell": "Table of Contents",
   "title_sidebar": "Contents",
   "toc_cell": false,
   "toc_position": {},
   "toc_section_display": true,
   "toc_window_display": true
  }
 },
 "nbformat": 4,
 "nbformat_minor": 5
}
