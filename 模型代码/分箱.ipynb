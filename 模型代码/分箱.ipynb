{
 "cells": [
  {
   "cell_type": "code",
   "execution_count": 2,
   "id": "9c5c48ff",
   "metadata": {},
   "outputs": [],
   "source": [
    "import pandas as pd"
   ]
  },
  {
   "cell_type": "code",
   "execution_count": 3,
   "id": "bcfc72d6",
   "metadata": {},
   "outputs": [
    {
     "data": {
      "text/plain": [
       "[0, 10, 20, 30.4, 59, 61, 79, 80, 90, 99, 100]"
      ]
     },
     "execution_count": 3,
     "metadata": {},
     "output_type": "execute_result"
    }
   ],
   "source": [
    "value_list=[0,10,20,30.4,59,61,79,80,90,99,100]\n",
    "value_list"
   ]
  },
  {
   "cell_type": "code",
   "execution_count": 6,
   "id": "bcc99ffb",
   "metadata": {},
   "outputs": [
    {
     "data": {
      "text/plain": [
       "[(-0.001, 20.0], (-0.001, 20.0], (-0.001, 20.0], (20.0, 59.0], (20.0, 59.0], ..., (59.0, 79.0], (79.0, 90.0], (79.0, 90.0], (90.0, 100.0], (90.0, 100.0]]\n",
       "Length: 11\n",
       "Categories (5, interval[float64, right]): [(-0.001, 20.0] < (20.0, 59.0] < (59.0, 79.0] < (79.0, 90.0] < (90.0, 100.0]]"
      ]
     },
     "execution_count": 6,
     "metadata": {},
     "output_type": "execute_result"
    }
   ],
   "source": [
    "#等频分箱\n",
    "value_freq_bins=pd.qcut(value_list,q=5)\n",
    "value_freq_bins"
   ]
  },
  {
   "cell_type": "code",
   "execution_count": 7,
   "id": "2f01a95a",
   "metadata": {},
   "outputs": [
    {
     "name": "stdout",
     "output_type": "stream",
     "text": [
      "等频分箱: [0 0 0 1 1 2 2 3 3 4 4]\n"
     ]
    }
   ],
   "source": [
    "print(\"等频分箱:\",value_freq_bins.codes)"
   ]
  },
  {
   "cell_type": "code",
   "execution_count": 8,
   "id": "c2e27b23",
   "metadata": {},
   "outputs": [
    {
     "name": "stdout",
     "output_type": "stream",
     "text": [
      "等距分箱: [0 0 0 1 2 3 3 3 4 4 4]\n"
     ]
    }
   ],
   "source": [
    "#等距分箱\n",
    "value_dis_bins=pd.cut(value_list,bins=5)\n",
    "print(\"等距分箱:\",value_dis_bins.codes)"
   ]
  },
  {
   "cell_type": "code",
   "execution_count": 9,
   "id": "d730c4dc",
   "metadata": {},
   "outputs": [
    {
     "data": {
      "text/plain": [
       "[(-0.1, 20.0], (-0.1, 20.0], (-0.1, 20.0], (20.0, 40.0], (40.0, 60.0], ..., (60.0, 80.0], (60.0, 80.0], (80.0, 100.0], (80.0, 100.0], (80.0, 100.0]]\n",
       "Length: 11\n",
       "Categories (5, interval[float64, right]): [(-0.1, 20.0] < (20.0, 40.0] < (40.0, 60.0] < (60.0, 80.0] < (80.0, 100.0]]"
      ]
     },
     "execution_count": 9,
     "metadata": {},
     "output_type": "execute_result"
    }
   ],
   "source": [
    "value_dis_bins"
   ]
  }
 ],
 "metadata": {
  "kernelspec": {
   "display_name": "Python 3 (ipykernel)",
   "language": "python",
   "name": "python3"
  },
  "language_info": {
   "codemirror_mode": {
    "name": "ipython",
    "version": 3
   },
   "file_extension": ".py",
   "mimetype": "text/x-python",
   "name": "python",
   "nbconvert_exporter": "python",
   "pygments_lexer": "ipython3",
   "version": "3.7.11"
  },
  "toc": {
   "base_numbering": 1,
   "nav_menu": {},
   "number_sections": true,
   "sideBar": true,
   "skip_h1_title": false,
   "title_cell": "Table of Contents",
   "title_sidebar": "Contents",
   "toc_cell": false,
   "toc_position": {},
   "toc_section_display": true,
   "toc_window_display": false
  }
 },
 "nbformat": 4,
 "nbformat_minor": 5
}
