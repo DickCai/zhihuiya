{
 "cells": [
  {
   "cell_type": "code",
   "execution_count": 2,
   "id": "0723cb61",
   "metadata": {},
   "outputs": [],
   "source": [
    "import numpy as np\n",
    "from sklearn import datasets\n",
    "from sklearn.linear_model import LogisticRegression\n",
    "from sklearn.model_selection import train_test_split"
   ]
  },
  {
   "cell_type": "code",
   "execution_count": 4,
   "id": "52c4de92",
   "metadata": {},
   "outputs": [],
   "source": [
    "X,y=datasets.load_iris(True)\n",
    "\n",
    "#将目标值为2的样本去除\n",
    "cond=y!=2\n",
    "X=X[cond]\n",
    "y=y[cond]\n",
    "\n",
    "X_train,X_test,y_train,y_test=train_test_split(X,y,test_size=0.2)"
   ]
  },
  {
   "cell_type": "code",
   "execution_count": 6,
   "id": "f0d9d943",
   "metadata": {},
   "outputs": [],
   "source": [
    "lr=LogisticRegression()\n",
    "lr.fit(X_train,y_train)\n",
    "proba_=lr.predict_proba(X_test)"
   ]
  },
  {
   "cell_type": "code",
   "execution_count": 7,
   "id": "480ba55e",
   "metadata": {},
   "outputs": [
    {
     "name": "stdout",
     "output_type": "stream",
     "text": [
      "(20, 4)\n",
      "(1, 4) (1,)\n"
     ]
    }
   ],
   "source": [
    "w=lr.coef_\n",
    "b=lr.intercept_\n",
    "#为了便于点乘，先看看参数的形状\n",
    "\n",
    "print(X_test.shape)\n",
    "print(w.shape,b.shape)"
   ]
  },
  {
   "cell_type": "code",
   "execution_count": 8,
   "id": "7100be5a",
   "metadata": {},
   "outputs": [],
   "source": [
    "#计算线性结果\n",
    "z=X_test.dot(w.T)+b\n",
    "\n",
    "#带入sigmoid函数计算概率,p是类别为1的概率\n",
    "p=1/(1+np.e**(-z))\n",
    "\n",
    "#将类别为0的概率和类别为1的概率进行级联\n",
    "prob_1=np.c_[1-p,p]"
   ]
  },
  {
   "cell_type": "code",
   "execution_count": null,
   "id": "08446d0f",
   "metadata": {},
   "outputs": [],
   "source": [
    "def train_report(data,p_cols,param_grid = {'C':[100,10,1.1,1.05,1,.01,.015,0.017,.02],'penalty':['l2'], \n",
    "                                 'class_weight':[None,'balanced']}):\n",
    "    \n",
    "    ## split\n",
    "#     X_train, X_test, y_train, y_test = train_test_split(\n",
    "#              X,y, test_size=0.33, random_state=42)\n",
    "    X_train, X_test = data.query(\"train_or_test=='train'\")[p_cols],data.query(\"train_or_test=='test'\")[p_cols]\n",
    "    y_train, y_test = data.query(\"train_or_test=='train'\")['label'],data.query(\"train_or_test=='test'\")['label']\n",
    "    ## train\n",
    "    lr = LogisticRegression(solver='liblinear',random_state = 42)\n",
    "    clf = GridSearchCV(lr,\n",
    "                   param_grid = param_grid,\n",
    "                   n_jobs=-1,scoring='f1',cv=4)\n",
    "    clf.fit(X_train,y_train)\n",
    "    \n",
    "    ## summary\n",
    "    print(f'test: {f1_score(y_test,clf.predict(X_test))}')\n",
    "    print(f'train: {f1_score(y_train,clf.predict(X_train))}')\n",
    "    print(f'total: {f1_score(data.label,clf.predict(data[p_cols]))}')   \n",
    "    print('best_params: ',f'{clf.best_params_}')\n",
    "    \n",
    "    fi = pd.DataFrame({'feature':X_train.columns,'imp':clf.best_estimator_.coef_[0]})\\\n",
    "            .sort_values('imp',ascending=False)\\\n",
    "            .eval('imp_percent = imp/imp.sum()')\\\n",
    "            .set_index('feature')\n",
    "    return fi"
   ]
  }
 ],
 "metadata": {
  "kernelspec": {
   "display_name": "Python 3 (ipykernel)",
   "language": "python",
   "name": "python3"
  },
  "language_info": {
   "codemirror_mode": {
    "name": "ipython",
    "version": 3
   },
   "file_extension": ".py",
   "mimetype": "text/x-python",
   "name": "python",
   "nbconvert_exporter": "python",
   "pygments_lexer": "ipython3",
   "version": "3.7.11"
  },
  "toc": {
   "base_numbering": 1,
   "nav_menu": {},
   "number_sections": true,
   "sideBar": true,
   "skip_h1_title": false,
   "title_cell": "Table of Contents",
   "title_sidebar": "Contents",
   "toc_cell": false,
   "toc_position": {},
   "toc_section_display": true,
   "toc_window_display": false
  }
 },
 "nbformat": 4,
 "nbformat_minor": 5
}
