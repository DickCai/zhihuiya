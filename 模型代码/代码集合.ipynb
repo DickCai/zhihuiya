{
 "cells": [
  {
   "cell_type": "markdown",
   "id": "3163350e",
   "metadata": {},
   "source": [
    "# 分箱"
   ]
  },
  {
   "cell_type": "code",
   "execution_count": null,
   "id": "93450840",
   "metadata": {},
   "outputs": [],
   "source": [
    "grouped = v2_quanguo_df_formatted.groupby('战略性新兴产业一层分类')\n",
    "def f(x):\n",
    "    try:\n",
    "        rst = pd.qcut(x.rank(method='dense',ascending=False),q=[0,.05,.15,.3,.5,1],labels=list('ABCDE'),precision=7)\n",
    "    except:\n",
    "        try:\n",
    "            rst = pd.qcut(x.rank(method='dense',ascending=False),q=[0,.05,.15,.3,1],labels=list('ABCE'),precision=7)\n",
    "        except:\n",
    "            rst = pd.qcut(x.rank(method='dense',ascending=False),q=[0,.05,.15,1],labels=list('ABE'),precision=7)\n",
    "    return rst\n",
    "v2_quanguo_df_formatted['fundamental_rating_test'] =grouped.fundamental.transform(f).astype(str)"
   ]
  },
  {
   "cell_type": "markdown",
   "id": "60c49349",
   "metadata": {},
   "source": [
    "# 评级分位点"
   ]
  },
  {
   "cell_type": "code",
   "execution_count": null,
   "id": "ffef255e",
   "metadata": {},
   "outputs": [],
   "source": [
    "#company_competitiveness\n",
    "#新一代信息技术产业\n",
    "company_competitiveness=test_quanguo_dpp_score_rating_address.groupby(['seic'],as_index=False)['total'].quantile([0.95,0.85,0.7,0.5]).reset_index()\n",
    "company_competitiveness.drop('level_0',1,inplace=True)\n",
    "company_competitiveness.rename(columns={'level_1':'quantile'},inplace=True)\n",
    "company_competitiveness"
   ]
  },
  {
   "cell_type": "markdown",
   "id": "09abcaae",
   "metadata": {},
   "source": [
    "# 分数分布"
   ]
  },
  {
   "cell_type": "code",
   "execution_count": null,
   "id": "25cb890e",
   "metadata": {},
   "outputs": [],
   "source": [
    "fig,axes=plt.subplots(1,3,figsize=(20,6))\n",
    "ax1=sns.distplot(test_quanguo_score_10['total'],bins=23,ax=axes[0])\n",
    "ax2=sns.distplot(test_quanguo_score_10['total'],bins=23,rug=True,kde=False,ax=axes[1])\n",
    "ax3=sns.distplot(test_quanguo_score_10['total'],bins=23,kde=False,ax=axes[2])\n",
    "ax1.set_title('修改分箱后的数据的密度分布')\n",
    "ax2.set_title('修改分箱后的数据点实际的分布')\n",
    "ax3.set_title('修改分箱后的数据数量分布')"
   ]
  },
  {
   "cell_type": "markdown",
   "id": "746f0617",
   "metadata": {},
   "source": [
    "# 得分区间数量统计"
   ]
  },
  {
   "cell_type": "code",
   "execution_count": null,
   "id": "fac2cc19",
   "metadata": {},
   "outputs": [],
   "source": [
    "Score_5=wuxi_score_10[(wuxi_score_10['total']>=0) &(wuxi_score_10['total']<5) ]\n",
    "Score_10=wuxi_score_10[(wuxi_score_10['total']>=5) &(wuxi_score_10['total']<10)]\n",
    "Score_15=wuxi_score_10[(wuxi_score_10['total']>=10) &(wuxi_score_10['total']<15)]\n",
    "Score_20=wuxi_score_10[(wuxi_score_10['total']>=15) &(wuxi_score_10['total']<20)]\n",
    "Score_25=wuxi_score_10[(wuxi_score_10['total']>=20) &(wuxi_score_10['total']<25)]\n",
    "Score_30=wuxi_score_10[(wuxi_score_10['total']>=25) &(wuxi_score_10['total']<30)]\n",
    "Score_35=wuxi_score_10[(wuxi_score_10['total']>=30) &(wuxi_score_10['total']<35)]\n",
    "Score_40=wuxi_score_10[(wuxi_score_10['total']>=35) &(wuxi_score_10['total']<40)]\n",
    "Score_45=wuxi_score_10[(wuxi_score_10['total']>=40) &(wuxi_score_10['total']<45)]\n",
    "Score_50=wuxi_score_10[(wuxi_score_10['total']>=45) &(wuxi_score_10['total']<50)]\n",
    "Score_55=wuxi_score_10[(wuxi_score_10['total']>=50) &(wuxi_score_10['total']<55)]\n",
    "Score_60=wuxi_score_10[(wuxi_score_10['total']>=55) &(wuxi_score_10['total']<60)]\n",
    "Score_65=wuxi_score_10[(wuxi_score_10['total']>=60) &(wuxi_score_10['total']<65)]\n",
    "Score_70=wuxi_score_10[(wuxi_score_10['total']>=65) &(wuxi_score_10['total']<70)]\n",
    "Score_75=wuxi_score_10[(wuxi_score_10['total']>=70) &(wuxi_score_10['total']<75)]\n",
    "Score_80=wuxi_score_10[(wuxi_score_10['total']>=75) &(wuxi_score_10['total']<80)]\n",
    "Score_85=wuxi_score_10[(wuxi_score_10['total']>=80) &(wuxi_score_10['total']<85)]\n",
    "Score_90=wuxi_score_10[(wuxi_score_10['total']>=85) &(wuxi_score_10['total']<90)]\n",
    "Score_95=wuxi_score_10[(wuxi_score_10['total']>=90) &(wuxi_score_10['total']<95)]\n",
    "Score_100=wuxi_score_10[(wuxi_score_10['total']>=95) &(wuxi_score_10['total']<100)]\n",
    "Score_105=wuxi_score_10[(wuxi_score_10['total']>=100) &(wuxi_score_10['total']<105)]\n",
    "Score_110=wuxi_score_10[(wuxi_score_10['total']>=105) &(wuxi_score_10['total']<110)]\n",
    "Score_111=wuxi_score_10[(wuxi_score_10['total']>=110)]"
   ]
  },
  {
   "cell_type": "code",
   "execution_count": null,
   "id": "396d3f49",
   "metadata": {},
   "outputs": [],
   "source": [
    "print('Score_5的数量:',Score_5.shape[0])\n",
    "print('Score_10的数量:',Score_10.shape[0])\n",
    "print('Score_15的数量:',Score_15.shape[0])\n",
    "print('Score_20的数量:',Score_20.shape[0])\n",
    "print('Score_25的数量:',Score_25.shape[0])\n",
    "print('Score_30的数量:',Score_30.shape[0])\n",
    "print('Score_35的数量:',Score_35.shape[0])\n",
    "print('Score_40的数量:',Score_40.shape[0])\n",
    "print('Score_45的数量:',Score_45.shape[0])\n",
    "print('Score_50的数量:',Score_50.shape[0])\n",
    "print('Score_55的数量:',Score_55.shape[0])\n",
    "print('Score_60的数量:',Score_60.shape[0])\n",
    "print('Score_65的数量:',Score_65.shape[0])\n",
    "print('Score_70的数量:',Score_70.shape[0])\n",
    "print('Score_75的数量:',Score_75.shape[0])\n",
    "print('Score_80的数量:',Score_80.shape[0])\n",
    "print('Score_85的数量:',Score_85.shape[0])\n",
    "print('Score_90的数量:',Score_90.shape[0])\n",
    "print('Score_95的数量:',Score_95.shape[0])\n",
    "print('Score_100的数量:',Score_100.shape[0])\n",
    "print('Score_105的数量:',Score_105.shape[0])\n",
    "print('Score_110的数量:',Score_110.shape[0])\n",
    "print('Score_111的数量:',Score_111.shape[0])"
   ]
  },
  {
   "cell_type": "markdown",
   "id": "20fba85b",
   "metadata": {},
   "source": [
    "# 一个Excel存多个sheet"
   ]
  },
  {
   "cell_type": "code",
   "execution_count": null,
   "id": "48764f16",
   "metadata": {},
   "outputs": [],
   "source": [
    "with pd.ExcelWriter('/Volumes/GT/智慧牙/数据/农行/无锡农行/无锡农行10月交付/跌出前2000名的名单.xls') as writer:\n",
    "    Fall_out_100.to_excel(writer,sheet_name='跌出前100名的公司')\n",
    "    Fall_out_500.to_excel(writer,sheet_name='跌出前500名的公司')\n",
    "    Fall_out_1000.to_excel(writer,sheet_name='跌出前1000名的公司')\n",
    "    Fall_out_2000.to_excel(writer,sheet_name='跌出前2000名的公司')"
   ]
  },
  {
   "cell_type": "markdown",
   "id": "30c4dd86",
   "metadata": {},
   "source": [
    "# 细节分对比"
   ]
  },
  {
   "cell_type": "markdown",
   "id": "616eabec",
   "metadata": {},
   "source": [
    "## 不同版本对比 "
   ]
  },
  {
   "cell_type": "code",
   "execution_count": null,
   "id": "90d25de4",
   "metadata": {},
   "outputs": [],
   "source": [
    "def diff(cid,base,new):\n",
    "    a=pd.concat([base.loc[cid],new.loc[cid]],axis=1)\n",
    "    a.columns=['old','new']\n",
    "    for i in a.index:\n",
    "        try:\n",
    "            a.loc[i,'gap'] = float(a.loc[i,'old'])-float(a.loc[i,'new'])\n",
    "        except:\n",
    "            a.loc[i,'gap'] = pd.NaT\n",
    "    a.sort_values('gap',ascending=False,inplace=True)\n",
    "    return a"
   ]
  },
  {
   "cell_type": "markdown",
   "id": "8d657f44",
   "metadata": {},
   "source": [
    "## 同一版本不同公司对比"
   ]
  },
  {
   "cell_type": "code",
   "execution_count": null,
   "id": "ce95b2f5",
   "metadata": {},
   "outputs": [],
   "source": [
    "def diff_1(cid_1,cid_2,new):\n",
    "    a=pd.concat([new.loc[cid_1],new.loc[cid_2]],axis=1)\n",
    "    a.columns=['cid_1','cid_2']\n",
    "    for i in a.index:\n",
    "        try:\n",
    "            a.loc[i,'gap'] = float(a.loc[i,'cid_1'])-float(a.loc[i,'cid_2'])\n",
    "        except:\n",
    "            a.loc[i,'gap'] = pd.NaT\n",
    "    a.sort_values('gap',ascending=False,inplace=True)\n",
    "    return a"
   ]
  },
  {
   "cell_type": "markdown",
   "id": "093e8579",
   "metadata": {},
   "source": [
    "# 去除重复行"
   ]
  },
  {
   "cell_type": "code",
   "execution_count": null,
   "id": "936634c6",
   "metadata": {},
   "outputs": [],
   "source": [
    "dup_row = test_sample.duplicated(subset=['company_name'], keep=False)\n",
    "test_sample.insert(0, 'is_dup', dup_row)\n",
    "test_sample[test_sample['is_dup'] == True]"
   ]
  },
  {
   "cell_type": "code",
   "execution_count": null,
   "id": "3b899542",
   "metadata": {},
   "outputs": [],
   "source": [
    "##重复数据全部去除\n",
    "data1= df.drop_duplicates(subset=['id'], keep=False)\n",
    "data1\n",
    "# 重复数据保留一个\n",
    "data2=df.drop_duplicates(subset=['id'], keep='last')\n",
    "data2\n",
    "# 做差集，取出重复行\n",
    "repeat=data2.append(data1).drop_duplicates(keep=False)\n",
    "repeat"
   ]
  },
  {
   "cell_type": "code",
   "execution_count": null,
   "id": "96aae48a",
   "metadata": {},
   "outputs": [],
   "source": [
    "#筛选并展示重复数据\n",
    "train[train.duplicated()]\n",
    "\n",
    "#删除重复数据\n",
    "df.drop_duplicates()"
   ]
  }
 ],
 "metadata": {
  "kernelspec": {
   "display_name": "Python 3 (ipykernel)",
   "language": "python",
   "name": "python3"
  },
  "language_info": {
   "codemirror_mode": {
    "name": "ipython",
    "version": 3
   },
   "file_extension": ".py",
   "mimetype": "text/x-python",
   "name": "python",
   "nbconvert_exporter": "python",
   "pygments_lexer": "ipython3",
   "version": "3.7.11"
  },
  "toc": {
   "base_numbering": 1,
   "nav_menu": {},
   "number_sections": true,
   "sideBar": true,
   "skip_h1_title": false,
   "title_cell": "Table of Contents",
   "title_sidebar": "Contents",
   "toc_cell": false,
   "toc_position": {},
   "toc_section_display": true,
   "toc_window_display": true
  }
 },
 "nbformat": 4,
 "nbformat_minor": 5
}
